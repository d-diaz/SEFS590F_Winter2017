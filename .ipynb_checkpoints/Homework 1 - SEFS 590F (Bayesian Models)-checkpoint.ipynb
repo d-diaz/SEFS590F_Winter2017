{
 "cells": [
  {
   "cell_type": "code",
   "execution_count": 1,
   "metadata": {
    "collapsed": false
   },
   "outputs": [
    {
     "data": {
      "text/html": [
       "<style>\n",
       "table {float:left}\n",
       "table,td,tr,th {border:none!important}\n",
       "</style>"
      ],
      "text/plain": [
       "<IPython.core.display.HTML object>"
      ]
     },
     "metadata": {},
     "output_type": "display_data"
    }
   ],
   "source": [
    "%%html\n",
    "<style>\n",
    "table {float:left}\n",
    "table,td,tr,th {border:none!important}\n",
    "</style>"
   ]
  },
  {
   "cell_type": "code",
   "execution_count": 2,
   "metadata": {
    "collapsed": true
   },
   "outputs": [],
   "source": [
    "import daft # for drawing Bayesian Networks\n",
    "import numpy as np\n",
    "import matplotlib.pyplot as plt\n",
    "from matplotlib import rc\n",
    "rc(\"font\", family=\"serif\", size=12)\n",
    "rc(\"text\", usetex=True)\n",
    "%matplotlib inline"
   ]
  },
  {
   "cell_type": "markdown",
   "metadata": {},
   "source": [
    "David Diaz\n",
    "\n",
    "SEFS 590F (Bayesian Models) - Winter 2016-17\n",
    "# Homework 1"
   ]
  },
  {
   "cell_type": "markdown",
   "metadata": {},
   "source": [
    "### 1. Write out the joint and conditional distributions for the following Bayesian networks. For discrete random variables, [A] is equivalent to Pr(A). For continuous random variables [A] is the probability density of A."
   ]
  },
  {
   "cell_type": "markdown",
   "metadata": {},
   "source": [
    "\\# | Network Graph | Joint & Conditional Distribution\n",
    "-- | :-----------: | ----------------------------------------------------------------------------------------\n",
    "**a.** | <img src=\"HW1_images/HW1-1a.png\", width=100px /> | $$P(A,B,C,D,E)=$$ $$P(A \\mid B,C)P(B)P(C\\mid D,E)P(D)P(E)$$\n",
    "**b.** | <img src=\"HW1_images/HW1-1b.png\", width=170px /> | $$P(y1,y2,\\theta_1,z,\\theta_2,\\gamma_1,\\gamma_2)=$$ $$P(y1 \\mid \\theta_1,z)P(\\theta_1)P(y2 \\mid z,\\theta_2)P(z \\mid \\gamma_1,\\gamma_2)P(\\gamma_1,\\gamma_2)$$\n",
    "**c.** | <img src=\"HW1_images/HW1-1c.png\", width=160px /> | $$P(A,B,D,E,F,H)=$$ $$P(A \\mid D,E)P(E)P(D \\mid H)P(H)P(B \\mid H,F)P(F)$$"
   ]
  },
  {
   "cell_type": "markdown",
   "metadata": {},
   "source": [
    "### 2. Draw Bayesian networks (DAGs) for the joint and conditional distributions below."
   ]
  },
  {
   "cell_type": "markdown",
   "metadata": {},
   "source": [
    "a. $P(a,b,c,d,e) = P(a \\mid b,c)P(b \\mid d,e)P(c)P(d)P(e)$"
   ]
  },
  {
   "cell_type": "code",
   "execution_count": 3,
   "metadata": {
    "collapsed": false
   },
   "outputs": [
    {
     "data": {
      "text/plain": [
       "<matplotlib.axes._axes.Axes at 0x10ac97c18>"
      ]
     },
     "execution_count": 3,
     "metadata": {},
     "output_type": "execute_result"
    },
    {
     "data": {
      "image/png": "[encoded data removed]",
      "text/plain": [
       "<matplotlib.figure.Figure at 0x10ac97438>"
      ]
     },
     "metadata": {},
     "output_type": "display_data"
    }
   ],
   "source": [
    "# instantiate the probabilistic graphic model (PGM)\n",
    "pgm2a = daft.PGM([3, 3], origin=[0, 0])\n",
    "\n",
    "# add the nodes\n",
    "pgm2a.add_node(daft.Node('a', r'$a$', 1.5, 2.5))\n",
    "pgm2a.add_node(daft.Node('b', r'$b$', 1.0, 1.5))\n",
    "pgm2a.add_node(daft.Node('c', r'$c$', 2.0, 1.5))\n",
    "pgm2a.add_node(daft.Node('d', r'$d$', 0.5, 0.5))\n",
    "pgm2a.add_node(daft.Node('e', r'$e$', 1.5, 0.5))\n",
    "\n",
    "# add the edges\n",
    "pgm2a.add_edge(\"b\", \"a\")\n",
    "pgm2a.add_edge(\"c\", \"a\")\n",
    "pgm2a.add_edge(\"d\", \"b\")\n",
    "pgm2a.add_edge(\"e\", \"b\")\n",
    "\n",
    "pgm2a.render()"
   ]
  },
  {
   "cell_type": "markdown",
   "metadata": {},
   "source": [
    "b.  $P(y,\\mu,\\beta_1,\\beta_2, \\sigma_1, \\sigma_2) = P(y \\mid \\mu,\\sigma_2) P(\\mu \\mid \\sigma_1,\\beta_1,\\beta_2) P(\\sigma_1) P(\\beta_1) P(\\beta_2) P(\\sigma_2)$"
   ]
  },
  {
   "cell_type": "code",
   "execution_count": 4,
   "metadata": {
    "collapsed": false
   },
   "outputs": [
    {
     "data": {
      "text/plain": [
       "<matplotlib.axes._axes.Axes at 0x10d015f98>"
      ]
     },
     "execution_count": 4,
     "metadata": {},
     "output_type": "execute_result"
    },
    {
     "data": {
      "image/png": "[encoded data removed]",
      "text/plain": [
       "<matplotlib.figure.Figure at 0x10aca8278>"
      ]
     },
     "metadata": {},
     "output_type": "display_data"
    }
   ],
   "source": [
    "# instantiate the probabilistic graphic model (PGM)\n",
    "pgm2b = daft.PGM([3, 3], origin=[0, 0])\n",
    "\n",
    "# add the nodes\n",
    "pgm2b.add_node(daft.Node('y', r'$y$', 1.5, 2.5))\n",
    "pgm2b.add_node(daft.Node('mu', r'$\\mu$', 1.0, 1.5))\n",
    "pgm2b.add_node(daft.Node('beta_1', r'$\\beta_1$', 1.5, 0.5))\n",
    "pgm2b.add_node(daft.Node('beta_2', r'$\\beta_2$', 0.5, 0.5))\n",
    "pgm2b.add_node(daft.Node('sigma_1', r'$\\sigma_1$', 1.0, 0.5))\n",
    "pgm2b.add_node(daft.Node('sigma_2', r'$\\sigma_2$', 2.0, 1.5))\n",
    "\n",
    "\n",
    "# add the edges\n",
    "pgm2b.add_edge(\"mu\", \"y\")\n",
    "pgm2b.add_edge(\"sigma_2\", \"y\")\n",
    "pgm2b.add_edge(\"sigma_1\", \"mu\")\n",
    "pgm2b.add_edge(\"beta_1\", \"mu\")\n",
    "pgm2b.add_edge(\"beta_2\", \"mu\")\n",
    "pgm2b.render()"
   ]
  },
  {
   "cell_type": "markdown",
   "metadata": {},
   "source": [
    "c. $P(y,x,z,\\mu,\\phi_1,\\phi_2,\\sigma)=P(y \\mid x,z) P(x \\mid \\mu,\\sigma) P(z \\mid \\phi_1,\\phi_2) P(\\sigma) P(\\phi_1) P(\\phi_2) P(\\mu)$"
   ]
  },
  {
   "cell_type": "code",
   "execution_count": 5,
   "metadata": {
    "collapsed": false
   },
   "outputs": [
    {
     "data": {
      "text/plain": [
       "<matplotlib.axes._axes.Axes at 0x10d137780>"
      ]
     },
     "execution_count": 5,
     "metadata": {},
     "output_type": "execute_result"
    },
    {
     "data": {
      "image/png": "[encoded data removed]",
      "text/plain": [
       "<matplotlib.figure.Figure at 0x10d0ad860>"
      ]
     },
     "metadata": {},
     "output_type": "display_data"
    }
   ],
   "source": [
    "# instantiate the probabilistic graphic model (PGM)\n",
    "pgm2c = daft.PGM([4, 3], origin=[0, 0])\n",
    "\n",
    "# add the nodes\n",
    "pgm2c.add_node(daft.Node('y', r'$y$', 1.5, 2.5))\n",
    "pgm2c.add_node(daft.Node('z', r'$z$', 0.75, 1.5))\n",
    "pgm2c.add_node(daft.Node('x', r'$x$', 2.25, 1.5))\n",
    "pgm2c.add_node(daft.Node('phi_1', r'$\\phi_1$', 0.5, 0.5))\n",
    "pgm2c.add_node(daft.Node('phi_2', r'$\\phi_2$', 1.0, 0.5))\n",
    "pgm2c.add_node(daft.Node('sigma', r'$\\sigma$', 2.0, 0.5))\n",
    "pgm2c.add_node(daft.Node('mu', r'$\\mu$', 2.5, 0.5))\n",
    "\n",
    "\n",
    "# add the edges\n",
    "pgm2c.add_edge(\"x\", \"y\")\n",
    "pgm2c.add_edge(\"z\", \"y\")\n",
    "pgm2c.add_edge(\"mu\", \"x\")\n",
    "pgm2c.add_edge(\"sigma\", \"x\")\n",
    "pgm2c.add_edge(\"phi_1\", \"z\")\n",
    "pgm2c.add_edge(\"phi_2\", \"z\")\n",
    "pgm2c.render()"
   ]
  },
  {
   "cell_type": "markdown",
   "metadata": {},
   "source": [
    "d. $P(A,B,C,D,E) = P(A \\mid C) P(B \\mid C) P(C \\mid D,E) P(D) P(E)$"
   ]
  },
  {
   "cell_type": "code",
   "execution_count": 6,
   "metadata": {
    "collapsed": false
   },
   "outputs": [
    {
     "data": {
      "text/plain": [
       "<matplotlib.axes._axes.Axes at 0x10d1a5080>"
      ]
     },
     "execution_count": 6,
     "metadata": {},
     "output_type": "execute_result"
    },
    {
     "data": {
      "image/png": "[encoded data removed]",
      "text/plain": [
       "<matplotlib.figure.Figure at 0x10ac84f98>"
      ]
     },
     "metadata": {},
     "output_type": "display_data"
    }
   ],
   "source": [
    "# instantiate the probabilistic graphic model (PGM)\n",
    "pgm2d = daft.PGM([3, 3], origin=[0, 0])\n",
    "\n",
    "# add the nodes\n",
    "pgm2d.add_node(daft.Node('A', r'$A$', 1.0, 2.5))\n",
    "pgm2d.add_node(daft.Node('B', r'$B$', 2.0, 2.5))\n",
    "pgm2d.add_node(daft.Node('C', r'$C$', 1.5, 1.5))\n",
    "pgm2d.add_node(daft.Node('D', r'$D$', 1.0, 0.5))\n",
    "pgm2d.add_node(daft.Node('E', r'$E$', 2.0, 0.5))\n",
    "\n",
    "# add the edges\n",
    "pgm2d.add_edge(\"C\", \"A\")\n",
    "pgm2d.add_edge(\"C\", \"B\")\n",
    "pgm2d.add_edge(\"D\", \"C\")\n",
    "pgm2d.add_edge(\"E\", \"C\")\n",
    "pgm2d.render()"
   ]
  },
  {
   "cell_type": "markdown",
   "metadata": {},
   "source": [
    "### 3. Simplify the expression below, given that $\\bf z_2$ and $\\bf z_3$ are independent random variables."
   ]
  },
  {
   "cell_type": "markdown",
   "metadata": {},
   "source": [
    "$P(z1,z2,z3)=P(z1 \\mid z2, z3)P(z2 \\mid z3)P(z3)$"
   ]
  },
  {
   "cell_type": "markdown",
   "metadata": {},
   "source": [
    "simplifies to:"
   ]
  },
  {
   "cell_type": "markdown",
   "metadata": {},
   "source": [
    "$P(z1,z2,z3)=P(z1\\mid z2, z3)P(z2)P(z3)$"
   ]
  },
  {
   "cell_type": "markdown",
   "metadata": {},
   "source": [
    "### 4. The probability of a vector of observations $\\bf y$ depends on a vector of true ecological states of interest, $\\bf z$, and the parameters in a data model: $\\bf \\theta_d$ and $\\sigma_d$. The probability of the true states $\\bf z$ depends on the parameters in an ecological process model: $\\bf \\theta_p$ and $\\sigma_p$ . We know that $\\bf \\theta_d$ , $\\bf \\theta_p$ , $\\sigma_d$ , and $\\sigma_p$ are all independent. Write out a factored expression for the joint distribution, $Pr(\\bf y, \\bf z, \\bf \\theta_d, \\bf \\theta_p, \\sigma_p, \\sigma_d)$ and include a Bayesian network."
   ]
  },
  {
   "cell_type": "markdown",
   "metadata": {},
   "source": [
    "$P(\\mathbf y, \\mathbf z, \\mathbf{\\theta_d}, \\mathbf{\\theta_p}, \\sigma_p, \\sigma_d)=\\\\\n",
    "P(\\mathbf y \\mid \\mathbf z, \\mathbf{\\theta_d}, \\sigma_d) P(\\mathbf z \\mid \\mathbf{\\theta_p}, \\sigma_p) \n",
    "P(\\mathbf{\\theta_d}) P(\\sigma_d) P(\\mathbf{\\theta_p}) P(\\sigma_p)$"
   ]
  },
  {
   "cell_type": "code",
   "execution_count": 7,
   "metadata": {
    "collapsed": false
   },
   "outputs": [
    {
     "data": {
      "text/plain": [
       "<matplotlib.axes._axes.Axes at 0x10d355f60>"
      ]
     },
     "execution_count": 7,
     "metadata": {},
     "output_type": "execute_result"
    },
    {
     "data": {
      "image/png": "[encoded data removed]",
      "text/plain": [
       "<matplotlib.figure.Figure at 0x10d34e898>"
      ]
     },
     "metadata": {},
     "output_type": "display_data"
    }
   ],
   "source": [
    "# instantiate the probabilistic graphic model (PGM)\n",
    "pgm4 = daft.PGM([4, 3.5], origin=[0, 0])\n",
    "\n",
    "# add the nodes\n",
    "pgm4.add_node(daft.Node('y', r'$\\bf y$', 1.63, 3.0, observed=True))\n",
    "pgm4.add_node(daft.Node('z', r'$\\bf z$', 2.38, 1.75))\n",
    "pgm4.add_node(daft.Node('theta_d', r'$\\bf{\\theta_d}$', 0.88, 1.75))\n",
    "pgm4.add_node(daft.Node('sigma_d', r'$\\sigma_d$', 1.63, 1.75))\n",
    "pgm4.add_node(daft.Node('theta_p', r'$\\bf{\\theta_p}$', 2.0, 0.7))\n",
    "pgm4.add_node(daft.Node('sigma_p', r'$\\sigma_p$', 2.88, 0.7))\n",
    "\n",
    "# add the edges\n",
    "pgm4.add_edge(\"z\", \"y\")\n",
    "pgm4.add_edge(\"theta_d\", \"y\")\n",
    "pgm4.add_edge(\"sigma_d\", \"y\")\n",
    "pgm4.add_edge(\"z\", \"y\")\n",
    "pgm4.add_edge(\"theta_p\", \"z\")\n",
    "pgm4.add_edge(\"sigma_p\", \"z\")\n",
    "\n",
    "# label the process and data models\n",
    "pgm4.add_plate(daft.Plate([1.6, 0.25, 1.7, 0.8], \n",
    "                          label=r\"process model\", shift=-0.1))\n",
    "pgm4.add_plate(daft.Plate([0.5, 1.3, 2.25, 0.9], \n",
    "                          label=r\"data model\", shift=-0.1))\n",
    "\n",
    "pgm4.render()"
   ]
  },
  {
   "cell_type": "markdown",
   "metadata": {},
   "source": [
    "### 5. Jared Diamond studied the distribution of fruit pigeons <i>Ptilinopus rivoli</i> and <i>P. solomonensis</i> on 32 islands in the Bismark archipelago northeast of New Guinea (Table 1). Define the event R as an island being occupied by <i>P. rivoli</i>, and the event S as an island being occupied by <i>P. solomonensis</i>. The complementary events are that an island is not occupied by <i>P. solomonensis</i> (Sc) and not occupied by <i>P. rivoli</i> (Rc).\n",
    "\n",
    "##### Table 1. Data on distribution of species of fruit pigeons on islands\n",
    "\n",
    "Status                                       | # Islands\n",
    "-------------------------------------------- | :-----:\n",
    "P. rivoli present, P. solomonensis absent    | 9\n",
    "P. solomonensis present, P. rivoli absent    | 18\n",
    "Both present                                 | 2\n",
    "Both absent                                  | 3\n",
    "Total                                        | 32"
   ]
  },
  {
   "cell_type": "markdown",
   "metadata": {},
   "source": [
    "#### a. Fill in Table 2 to estimate the marginal probabilities of presence and absence of the two species."
   ]
  },
  {
   "cell_type": "markdown",
   "metadata": {},
   "source": [
    "##### Table 2. Estimates of marginal probabilities for island occupancy\n",
    "\n",
    "Events       | $\\bf S$ | $\\bf S^c$ | Marginal\n",
    "---------    |:---     |:---       | :-------\n",
    "$\\bf R $     | 0.0625  | 0.28125   | 0.34375\n",
    "$\\bf R^c$    | 0.5625  | 0.09375   | 0.65625\n",
    "**Marginal** | 0.625   | 0.375     | 1.0"
   ]
  },
  {
   "cell_type": "markdown",
   "metadata": {},
   "source": [
    "#### b. Use the data in Table 1 and the probabilities in Table 2 to illustrate the rule for the union of two events, the probability that an island contains either species, 𝑃(𝑅 ∪ 𝑆)."
   ]
  },
  {
   "cell_type": "markdown",
   "metadata": {},
   "source": [
    "\\begin{align}\n",
    "\\ P(R \\cup S) &= P(R) + P(S) - P(R,S)\\\\\n",
    "&= 0.34375 + 0.625 - 0.0625\\\\\n",
    "&= 0.90625\n",
    "\\end{align}"
   ]
  },
  {
   "cell_type": "markdown",
   "metadata": {},
   "source": [
    "#### c. Are R and S independent? Show your work."
   ]
  },
  {
   "cell_type": "markdown",
   "metadata": {},
   "source": [
    "No, $R$ and $S$ are not independent.\n",
    "\n",
    "$R$ and $S$ would be independent if an only if knowledge of $S$ does not affect the likelihood of $R$. That is, $P(R \\mid S) = P(R)$.\n",
    "\n",
    "\\begin{align}\n",
    "\\ P(R \\mid S) &= \\frac{P(R,S)}{P(S)} \\\\\n",
    "&= \\frac{0.0625}{0.625} \\\\\n",
    "&= 0.1 \\\\\n",
    "P(R) &= 0.34375 \\\\\n",
    "0.1 &\\neq 0.34375\\\\\n",
    "P(R \\mid S) &\\neq P(R)\n",
    "\\end{align}"
   ]
  },
  {
   "cell_type": "markdown",
   "metadata": {},
   "source": [
    "#### d. Use the marginal probabilities in Table 2 to calculate the probability that an island contains both species i.e., P(R,S), assuming that R and S are independent. Compare the results from those calculations with the probability that both species occur on an island calculated directly from the data in Table 1. Interpret the results with an ecological reason."
   ]
  },
  {
   "cell_type": "markdown",
   "metadata": {},
   "source": [
    "The joint probability of $R$ & $S$ if they were independent would be: $P(R,S)= P(R)P(S)$\n",
    "\n",
    "however, as observed in Table 2:\n",
    "\\begin{align}\n",
    "\\ P(R,S) &= 0.0625 \\\\\n",
    "P(R)P(S)&= 0.34375 \\times 0.625 \\\\\n",
    "&= 0.21484375 \\\\\n",
    "0.0625 &\\neq 0.21484375 \\\\\n",
    "P(R,S) &\\neq P(R)P(S)\n",
    "\\end{align}\n",
    "\n",
    "The presence of <i>P. solomonensis</i> decreases the likelihood of observing <i>P. rivoli</i> (i.e., $P(R \\mid S) < P(R)$). This is consistent with a competitive interaction between these two species. "
   ]
  },
  {
   "cell_type": "markdown",
   "metadata": {},
   "source": [
    "### 6. Choose an appropriate distribution for the types of data shown below and justify your decision."
   ]
  },
  {
   "cell_type": "markdown",
   "metadata": {},
   "source": [
    "#### a. The mass of carbon in above ground biomass in square m plot.\n",
    "Lognormal. Continuous variable that must be >= 0, and variance should be expected to rise as mass rises.\n",
    "#### b. The number of seals on a haul-out beach in the gulf of AK.\n",
    "Poisson. Discrete variable that must be >= 0. Counts of animal observations that are random over space and time is a typical case for Poisson. If variance exceeds the mean, consider applying Negative binomial instead of Poisson.\n",
    "#### c. Presence or absence of an invasive species in forest patches.\n",
    "Bernoulli. Discrete (binary) variable observed once and which can only be 0 or 1. \n",
    "#### d. The probability that a white male will vote republican in a presidential election.\n",
    "Binomial. Value between 0 and 1, based on a discrete response variable observed once for each voter, probability determined from votes cast by other white male voters.\n",
    "#### e. The number of individuals in four mutually exclusive income categories.\n",
    "Dirichlet. Continuous response variable (income), values >= 0, counts in more than 2 mutually-exclusive categories. \n",
    "#### f. The number of diseased individuals in a sample of 100.\n",
    "Binomial. Binary response variable (diseased/not) observed over many trials.\n",
    "#### g. The political party affiliation (democrat, republican, independent) of a voter.\n",
    "Multinomial. Discrete categorical response variable, collected as counts in more than 2 mutually-exclusive categories."
   ]
  },
  {
   "cell_type": "markdown",
   "metadata": {},
   "source": [
    "### 7. Find the mean, variance, and 95% quantiles of 10000 random draws from a Poisson distribution with λ=33.32"
   ]
  },
  {
   "cell_type": "code",
   "execution_count": 8,
   "metadata": {
    "collapsed": false
   },
   "outputs": [
    {
     "name": "stdout",
     "output_type": "stream",
     "text": [
      "mean = 33.3595\n",
      "variance = 32.23205975\n",
      "95th percentile =  43.0\n"
     ]
    }
   ],
   "source": [
    "# draw the samples using numpy\n",
    "poisson_samples = np.random.poisson(lam=33.32, size=10000)\n",
    "print('mean =', np.mean(poisson_samples))\n",
    "print('variance =', np.var(poisson_samples))\n",
    "print('95th percentile = ', np.percentile(poisson_samples, 95))"
   ]
  },
  {
   "cell_type": "markdown",
   "metadata": {},
   "source": [
    "### 8. Simulate one observation of survey data with five categories on a likert scale, i.e. strongly disagree to strongly agree. Assume a sample of 80 respondents and the following probabilities:\n",
    "Strongly disagree = 0.07\n",
    "Disagree = .13\n",
    "Neither agree nor disagree = .15\n",
    "Agree = .23\n",
    "Strongly agree = .42"
   ]
  },
  {
   "cell_type": "code",
   "execution_count": 9,
   "metadata": {
    "collapsed": false
   },
   "outputs": [
    {
     "data": {
      "text/plain": [
       "array([ 6,  7, 15, 25, 27])"
      ]
     },
     "execution_count": 9,
     "metadata": {},
     "output_type": "execute_result"
    }
   ],
   "source": [
    "# draw 80 samples from a multinomial distribution using numpy\n",
    "np.random.multinomial(80,[0.07,0.13,0.15,0.23,0.42])"
   ]
  },
  {
   "cell_type": "markdown",
   "metadata": {},
   "source": [
    "### 9. The average above ground biomass in a 1 km2 of sagebrush grassland is 103.4 g/m2, with a standard deviation of 23.3. You clip a 1 m2 plot. Write out the model for the data. What is the probability density of an observation of 94 assuming the data are normally distributed? What is the probability that your plot will contain between 90 and 110 gm of biomass? Is there a problem using normal distribution for these data?"
   ]
  },
  {
   "cell_type": "markdown",
   "metadata": {},
   "source": [
    "Sampling model for Above-ground Biomass Density ($ABD$):\n",
    "\n",
    "$\\left[ABD \\mid \\mu,\\sigma_s^2 \\right] = \\left[ABD \\mid 103.4,23.3^2 \\right]$"
   ]
  },
  {
   "cell_type": "code",
   "execution_count": 10,
   "metadata": {
    "collapsed": false
   },
   "outputs": [
    {
     "data": {
      "text/plain": [
       "0.015783800042411977"
      ]
     },
     "execution_count": 10,
     "metadata": {},
     "output_type": "execute_result"
    }
   ],
   "source": [
    "from scipy.stats import norm\n",
    "# calculate probability density of 94\n",
    "norm.pdf(94, loc=103.4, scale=23.3)"
   ]
  },
  {
   "cell_type": "code",
   "execution_count": 11,
   "metadata": {
    "collapsed": false
   },
   "outputs": [
    {
     "data": {
      "text/plain": [
       "0.32890255522303125"
      ]
     },
     "execution_count": 11,
     "metadata": {},
     "output_type": "execute_result"
    }
   ],
   "source": [
    "# calculate probability of observing values between 90 and 110\n",
    "norm.cdf(110, loc=103.4, scale=23.3) - norm.cdf(90, loc=103.4, \n",
    "                                                scale=23.3)"
   ]
  },
  {
   "cell_type": "markdown",
   "metadata": {},
   "source": [
    "Considering biomass values must be non-negative, it would be more sensible to use an alternative distribution for continuous variables, such as the Lognormal distribution."
   ]
  },
  {
   "cell_type": "markdown",
   "metadata": {},
   "source": [
    "### 10. Redo the biomass problem assuming a gamma distribution."
   ]
  },
  {
   "cell_type": "code",
   "execution_count": 12,
   "metadata": {
    "collapsed": false
   },
   "outputs": [
    {
     "data": {
      "text/plain": [
       "0.017197574705281493"
      ]
     },
     "execution_count": 12,
     "metadata": {},
     "output_type": "execute_result"
    }
   ],
   "source": [
    "from scipy.stats import gamma\n",
    "# calculate probability density of 94\n",
    "mean = 103.4\n",
    "SD = 23.3\n",
    "alpha = mean**2/SD**2\n",
    "rate = mean/SD**2\n",
    "gamma.pdf(94, a=alpha, scale=1/rate)"
   ]
  },
  {
   "cell_type": "code",
   "execution_count": 13,
   "metadata": {
    "collapsed": false
   },
   "outputs": [
    {
     "data": {
      "text/plain": [
       "0.33822601873482505"
      ]
     },
     "execution_count": 13,
     "metadata": {},
     "output_type": "execute_result"
    }
   ],
   "source": [
    "# calculate probability of observing values between 90 and 110\n",
    "gamma.cdf(110, a=alpha, scale=1/rate)-gamma.cdf(90, a=alpha, \n",
    "                                                scale=1/rate)"
   ]
  },
  {
   "cell_type": "markdown",
   "metadata": {},
   "source": [
    "### 11. The prevalence of a disease in a population is the proportion of the population that is infected with the disease. Prevalence of chronic wasting disease in male mule deer on winter range near in Washington is 12 percent. A sample of 24 male deer included 4 infected individuals. Write out a model for the data. What is the probability of obtaining these data conditional on the given prevalence (p=0.12)?"
   ]
  },
  {
   "cell_type": "markdown",
   "metadata": {},
   "source": [
    "Binomial sampling model for prevalence of chronic wasting disease ($prevCWD$):\n",
    "\n",
    "$\\left[prevCWD \\mid \\eta,\\phi \\right] = \\left[prevCWD \\mid 24, 0.12 \\right]$"
   ]
  },
  {
   "cell_type": "code",
   "execution_count": 14,
   "metadata": {
    "collapsed": false
   },
   "outputs": [
    {
     "data": {
      "text/plain": [
       "0.17090243036454747"
      ]
     },
     "execution_count": 14,
     "metadata": {},
     "output_type": "execute_result"
    }
   ],
   "source": [
    "from scipy.stats import binom\n",
    "# calculate PMF for observation of 4 infected individuals\n",
    "binom.pmf(4,24,0.12)"
   ]
  },
  {
   "cell_type": "markdown",
   "metadata": {},
   "source": [
    "### 12. Researchers know that the true proportion of related age-sex classifications for elk in Rocky Mountain National Park are: Adult females (p = 0.56), Yearling males (p =0.06), Bulls (p = 0.16), and Calves (p = 0.22). What is the probability of obtaining the classification data conditional on the known sex-age population proportions given the following counts?\n",
    "Adult females (count = 65)\n",
    "Yearling males (count = 4)\n",
    "Bulls (count = 25)\n",
    "Calves (count = 26)"
   ]
  },
  {
   "cell_type": "code",
   "execution_count": 15,
   "metadata": {
    "collapsed": false
   },
   "outputs": [],
   "source": [
    "# scipy won't offer multinomial class until next update\n",
    "# using a script found here:\n",
    "# http://stackoverflow.com/questions/13903922/multinomial-pmf-in-python-scipy-numpy\n",
    "\n",
    "import math\n",
    "\n",
    "class Multinomial(object):\n",
    "  def __init__(self, params):\n",
    "    self._params = params\n",
    "\n",
    "  def pmf(self, counts):\n",
    "    if not(len(counts)==len(self._params)):\n",
    "      raise ValueError(\"Dimensionality of count vector is incorrect\")\n",
    "\n",
    "    prob = 1.\n",
    "    for i,c in enumerate(counts):\n",
    "      prob *= self._params[i]**counts[i]\n",
    "\n",
    "    return prob * math.exp(self._log_multinomial_coeff(counts))\n",
    "\n",
    "  def log_pmf(self,counts):\n",
    "    if not(len(counts)==len(self._params)):\n",
    "      raise ValueError(\"Dimensionality of count vector is incorrect\")\n",
    "\n",
    "    prob = 0.\n",
    "    for i,c in enumerate(counts):\n",
    "      prob += counts[i]*math.log(self._params[i])\n",
    "\n",
    "    return prob + self._log_multinomial_coeff(counts)\n",
    "\n",
    "  def _log_multinomial_coeff(self, counts):\n",
    "    return self._log_factorial(sum(counts)) - sum(self._log_factorial(c) for c in counts)\n",
    "\n",
    "  def _log_factorial(self, num):\n",
    "    if not round(num)==num and num > 0:\n",
    "      raise ValueError(\"Can only compute the factorial of positive ints\")\n",
    "    return sum(math.log(n) for n in range(1,num+1))"
   ]
  },
  {
   "cell_type": "code",
   "execution_count": 16,
   "metadata": {
    "collapsed": false
   },
   "outputs": [
    {
     "data": {
      "text/plain": [
       "0.0003043712799438816"
      ]
     },
     "execution_count": 16,
     "metadata": {},
     "output_type": "execute_result"
    }
   ],
   "source": [
    "classes = [0.56, 0.06, 0.16, 0.22]\n",
    "multinomial = Multinomial(classes)\n",
    "\n",
    "observations = [65, 4, 25, 26]\n",
    "multinomial.pmf(observations)"
   ]
  },
  {
   "cell_type": "markdown",
   "metadata": {},
   "source": [
    "### 13. If a random variable is lognormally distributed then the log of that random variable is normally distributed (conversely, if you exponentiate a normal random variable it generates a lognormal random variable). The first parameter of the lognormal distribution is the mean of the random variable on the log scale and the second parameter is the variance (or sometimes the standard deviation) of the random variable on the log scale.\n",
    "$$𝑧 ∼ lognormal(\\alpha, \\beta)$$\n",
    "$$median(𝑧) = e^\\alpha$$\n",
    "$$log(median(𝑧)) = \\alpha$$\n",
    "\n",
    "### Simulate 10,000 data points from a normal distribution with mean 0 and standard deviation 1 and another 10,000 data points from a log normal distribution with location parameter of 0 and a scale parameter of 1. Display side-by-side histograms scaled to the density. Overlay the probability density function. Find the mean, the median, and the variance of in each case (hint: use moment matching for the lognormal case). Check your estimates empirically with the simulated data. Repeat with different means and standard deviations of your choice."
   ]
  },
  {
   "cell_type": "code",
   "execution_count": 17,
   "metadata": {
    "collapsed": false
   },
   "outputs": [],
   "source": [
    "# generate the normal distribution\n",
    "norm_mu = 0\n",
    "norm_sigma = 1\n",
    "norms = np.random.normal(norm_mu,norm_sigma,1000)\n",
    "norm_count, norm_bins = np.histogram(norms, bins=100, normed=True)\n",
    "# generate the normal probability density function\n",
    "norm_x = np.linspace(min(norms), max(norms), 1000) \n",
    "norm_pdf = 1/(norm_sigma*np.sqrt(2*np.pi))*np.exp(-(norm_x-norm_mu)**2/\n",
    "                                                  (2*norm_sigma**2))\n",
    "\n",
    "# generate the lognormal distribution\n",
    "log_alpha = 0\n",
    "log_beta = 1\n",
    "lognorms = np.random.lognormal(log_alpha,log_beta,1000)\n",
    "log_count, log_bins = np.histogram(lognorms, bins=100, normed=True)\n",
    "# generate the lognormal probability density function\n",
    "log_x = np.linspace(min(lognorms), max(lognorms), 1000)\n",
    "log_pdf = (np.exp(-(np.log(log_x)-log_alpha)**2/(2*log_beta**2))/\n",
    "           (log_x * log_beta * np.sqrt(2 * np.pi)))"
   ]
  },
  {
   "cell_type": "code",
   "execution_count": 18,
   "metadata": {
    "collapsed": false
   },
   "outputs": [
    {
     "data": {
      "text/plain": [
       "<matplotlib.text.Text at 0x10ef518d0>"
      ]
     },
     "execution_count": 18,
     "metadata": {},
     "output_type": "execute_result"
    },
    {
     "data": {
      "image/png": "[encoded data removed]",
      "text/plain": [
       "<matplotlib.figure.Figure at 0x10ef0d278>"
      ]
     },
     "metadata": {},
     "output_type": "display_data"
    }
   ],
   "source": [
    "# Two subplots\n",
    "f, (ax1, ax2) = plt.subplots(1, 2, sharey=True, sharex=True)\n",
    "ax1.hist(norms, 10, normed=True, color='orange') \n",
    "# normed adjusts y-axis so area under curve = 1.0\n",
    "ax1.plot(norm_x, norm_pdf, linewidth=2, color='blue', alpha=0.8)\n",
    "ax1.set_xlim(-5, 15)\n",
    "ax1.set_title('Normal Distribution')\n",
    "ax2.hist(lognorms, 35, normed=True, color='orange')\n",
    "ax2.plot(log_x, log_pdf, linewidth=2, color='blue', alpha=0.7)\n",
    "ax2.set_title('Lognormal Distribution')"
   ]
  },
  {
   "cell_type": "code",
   "execution_count": 19,
   "metadata": {
    "collapsed": false
   },
   "outputs": [
    {
     "name": "stdout",
     "output_type": "stream",
     "text": [
      "normal\n",
      "mean:  0.0252051524398\n",
      "median:  0.0372151238692\n",
      "variance:  0.960722326085\n",
      "lognormal\n",
      "mean:  1.6487212707\n",
      "median:  1.0\n",
      "variance:  2.71828182846\n"
     ]
    }
   ],
   "source": [
    "# Find the mean, the median, and the variance of in each case\n",
    "print('normal')\n",
    "print('mean: ', np.mean(norms))\n",
    "print('median: ', np.median(norms))\n",
    "print('variance: ' ,np.var(norms))\n",
    "\n",
    "# lognormal moment matching\n",
    "print('lognormal')\n",
    "print('mean: ', np.exp(log_alpha + log_beta**2/2))\n",
    "print('median: ', np.exp(log_alpha))\n",
    "print('variance: ', np.exp(log_beta**2-1)*\n",
    "      np.exp(2*log_alpha+log_beta**2))"
   ]
  }
 ],
 "metadata": {
  "anaconda-cloud": {},
  "kernelspec": {
   "display_name": "Python [conda env:Py3.5]",
   "language": "python",
   "name": "conda-env-Py3.5-py"
  },
  "language_info": {
   "codemirror_mode": {
    "name": "ipython",
    "version": 3
   },
   "file_extension": ".py",
   "mimetype": "text/x-python",
   "name": "python",
   "nbconvert_exporter": "python",
   "pygments_lexer": "ipython3",
   "version": "3.5.2"
  }
 },
 "nbformat": 4,
 "nbformat_minor": 2
}
